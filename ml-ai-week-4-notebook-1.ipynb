{
 "cells": [
  {
   "cell_type": "code",
   "execution_count": 1,
   "id": "14b8b35e",
   "metadata": {
    "_cell_guid": "b1076dfc-b9ad-4769-8c92-a6c4dae69d19",
    "_uuid": "8f2839f25d086af736a60e9eeb907d3b93b6e0e5",
    "execution": {
     "iopub.execute_input": "2024-06-18T18:08:14.494876Z",
     "iopub.status.busy": "2024-06-18T18:08:14.494427Z",
     "iopub.status.idle": "2024-06-18T18:08:18.533754Z",
     "shell.execute_reply": "2024-06-18T18:08:18.531869Z"
    },
    "papermill": {
     "duration": 4.050931,
     "end_time": "2024-06-18T18:08:18.537293",
     "exception": false,
     "start_time": "2024-06-18T18:08:14.486362",
     "status": "completed"
    },
    "tags": []
   },
   "outputs": [
    {
     "name": "stdout",
     "output_type": "stream",
     "text": [
      "/kaggle/input/week4-practice-hackathon-2024/sample_submission.csv\n",
      "/kaggle/input/week4-practice-hackathon-2024/Train.csv\n",
      "/kaggle/input/week4-practice-hackathon-2024/Test.csv\n"
     ]
    }
   ],
   "source": [
    "# This Python 3 environment comes with many helpful analytics libraries installed\n",
    "# It is defined by the kaggle/python Docker image: https://github.com/kaggle/docker-python\n",
    "# For example, here's several helpful packages to load\n",
    "\n",
    "import numpy as np # linear algebra\n",
    "import pandas as pd # data processing, CSV file I/O (e.g. pd.read_csv)\n",
    "from sklearn import preprocessing\n",
    "from sklearn.model_selection import train_test_split, GridSearchCV\n",
    "from sklearn.linear_model import LogisticRegression\n",
    "from imblearn.over_sampling import SMOTE\n",
    "from tqdm.auto import tqdm\n",
    "from sklearn.metrics import f1_score\n",
    "from sklearn.svm import SVC\n",
    "from sklearn.neighbors import KNeighborsClassifier\n",
    "from sklearn.model_selection import cross_val_score\n",
    "from sklearn.preprocessing import StandardScaler\n",
    "from sklearn.ensemble import RandomForestClassifier, GradientBoostingClassifier, BaggingClassifier, VotingClassifier, StackingClassifier, AdaBoostClassifier\n",
    "from sklearn.naive_bayes import GaussianNB\n",
    "from sklearn.ensemble import BaggingClassifier\n",
    "from sklearn.tree import DecisionTreeClassifier\n",
    "import lightgbm as lgb\n",
    "\n",
    "\n",
    "# Input data files are available in the read-only \"../input/\" directory\n",
    "# For example, running this (by clicking run or pressing Shift+Enter) will list all files under the input directory\n",
    "\n",
    "import os\n",
    "for dirname, _, filenames in os.walk('/kaggle/input'):\n",
    "    for filename in filenames:\n",
    "        print(os.path.join(dirname, filename))\n",
    "\n",
    "# You can write up to 20GB to the current directory (/kaggle/working/) that gets preserved as output when you create a version using \"Save & Run All\"\n",
    "# You can also write temporary files to /kaggle/temp/, but they won't be saved outside of the current session"
   ]
  },
  {
   "cell_type": "code",
   "execution_count": 2,
   "id": "d1355de3",
   "metadata": {
    "execution": {
     "iopub.execute_input": "2024-06-18T18:08:18.556407Z",
     "iopub.status.busy": "2024-06-18T18:08:18.555222Z",
     "iopub.status.idle": "2024-06-18T18:08:18.895486Z",
     "shell.execute_reply": "2024-06-18T18:08:18.894464Z"
    },
    "papermill": {
     "duration": 0.35196,
     "end_time": "2024-06-18T18:08:18.898077",
     "exception": false,
     "start_time": "2024-06-18T18:08:18.546117",
     "status": "completed"
    },
    "tags": []
   },
   "outputs": [],
   "source": [
    "train_df = pd.read_csv(\"/kaggle/input/week4-practice-hackathon-2024/Train.csv\")\n",
    "X = train_df.drop(['class'], axis=1)\n",
    "y = train_df['class']\n",
    "X_train, X_val, y_train, y_val = train_test_split(X, y, test_size = 0.3,random_state=42)\n",
    "test_d = pd.read_csv('/kaggle/input/week4-practice-hackathon-2024/Test.csv')\n",
    "# test_df=test_d.drop(['Index'],axis=1)\n",
    "# print(train_df.isnull().sum())==0:)\n",
    "scaler = StandardScaler()\n",
    "X_train_scaled = scaler.fit_transform(X_train)\n",
    "X_val_scaled = scaler.transform(X_val)\n"
   ]
  },
  {
   "cell_type": "code",
   "execution_count": 3,
   "id": "2a2485a6",
   "metadata": {
    "execution": {
     "iopub.execute_input": "2024-06-18T18:08:18.913185Z",
     "iopub.status.busy": "2024-06-18T18:08:18.911984Z",
     "iopub.status.idle": "2024-06-18T18:08:18.917754Z",
     "shell.execute_reply": "2024-06-18T18:08:18.916508Z"
    },
    "papermill": {
     "duration": 0.015994,
     "end_time": "2024-06-18T18:08:18.920254",
     "exception": false,
     "start_time": "2024-06-18T18:08:18.904260",
     "status": "completed"
    },
    "tags": []
   },
   "outputs": [],
   "source": [
    "# nb_clf = GaussianNB()\n",
    "# gb_clf = GradientBoostingClassifier(n_estimators=100, random_state=42)\n",
    "# rf_clf = BaggingClassifier(base_estimator=RandomForestClassifier(n_estimators=100, random_state=42), n_estimators=10, random_state=42)\n",
    "# lgb_clf = lgb.LGBMClassifier(n_estimators=100, random_state=42)\n",
    "# ada_clf = AdaBoostClassifier(base_estimator=DecisionTreeClassifier(max_depth=1), n_estimators=50, random_state=42)\n",
    "\n",
    "# soft_voting_clf = VotingClassifier(estimators=[\n",
    "#     ('nb', nb_clf),\n",
    "#     ('gb', gb_clf),\n",
    "#     ('rf_bagging', rf_clf),\n",
    "#     ('lgb', lgb_clf),\n",
    "#     ('ada', ada_clf)\n",
    "# ], voting='soft')\n",
    "\n",
    "# # Train the Soft Voting Classifier\n",
    "# soft_voting_clf.fit(X_train_scaled, y_train)\n",
    "\n",
    "# # Make predictions with Soft Voting\n",
    "# y_pred_soft = soft_voting_clf.predict(X_val_scaled)\n",
    "\n",
    "# # Evaluate F1 score for Soft Voting\n",
    "# f1_soft = f1_score(y_val, y_pred_soft)\n",
    "# print(f'F1 Score (Soft Voting Classifier): {f1_soft}')\n",
    "# # F1 Score (Soft Voting Classifier): 0.6787951989129615\n",
    "# F1 Score (Soft Voting Classifier): 0.6787951989129615"
   ]
  },
  {
   "cell_type": "code",
   "execution_count": 4,
   "id": "37ae0d34",
   "metadata": {
    "execution": {
     "iopub.execute_input": "2024-06-18T18:08:18.934856Z",
     "iopub.status.busy": "2024-06-18T18:08:18.933947Z",
     "iopub.status.idle": "2024-06-18T18:08:37.582323Z",
     "shell.execute_reply": "2024-06-18T18:08:37.580906Z"
    },
    "papermill": {
     "duration": 18.658778,
     "end_time": "2024-06-18T18:08:37.585297",
     "exception": false,
     "start_time": "2024-06-18T18:08:18.926519",
     "status": "completed"
    },
    "tags": []
   },
   "outputs": [
    {
     "name": "stdout",
     "output_type": "stream",
     "text": [
      "F1 Score (Voting Classifier): 0.683255647185371\n"
     ]
    }
   ],
   "source": [
    "# Random Forest Classifier, Gradient Boosting Classifier,\n",
    "# and Naive Bayes as base models in Voting Classifier\n",
    "rf_classifier = RandomForestClassifier(n_estimators=100)\n",
    "gb_classifier = GradientBoostingClassifier()\n",
    "nb_classifier = GaussianNB()\n",
    "voting_clf = VotingClassifier(estimators=[('rf', rf_classifier), ('gb', gb_classifier), ('nb', nb_classifier)], voting='soft')\n",
    "voting_clf.fit(X_train, y_train)\n",
    "y_pred = voting_clf.predict(X_val)\n",
    "f1 = f1_score(y_val, y_pred)\n",
    "print(f'F1 Score (Voting Classifier): {f1}')\n",
    "# F1 Score (Voting Classifier): 0.6774616392937004 hard\n",
    "# F1 Score (Voting Classifier): 0.6812571756601608 soft\n",
    "# F1 Score (Voting Classifier): 0.6839541547277938\n",
    "# F1 Score (Voting Classifier): 0.6822483510180671"
   ]
  },
  {
   "cell_type": "code",
   "execution_count": 5,
   "id": "97290e28",
   "metadata": {
    "execution": {
     "iopub.execute_input": "2024-06-18T18:08:37.600319Z",
     "iopub.status.busy": "2024-06-18T18:08:37.599890Z",
     "iopub.status.idle": "2024-06-18T18:08:38.241848Z",
     "shell.execute_reply": "2024-06-18T18:08:38.240495Z"
    },
    "papermill": {
     "duration": 0.652514,
     "end_time": "2024-06-18T18:08:38.244523",
     "exception": false,
     "start_time": "2024-06-18T18:08:37.592009",
     "status": "completed"
    },
    "tags": []
   },
   "outputs": [],
   "source": [
    "test_d = pd.read_csv('/kaggle/input/week4-practice-hackathon-2024/Test.csv')\n",
    "test_df=test_d.drop(['Index'],axis=1)\n",
    "\n",
    "y_test = voting_clf.predict(test_df)\n",
    "Index=test_d['Index']\n",
    "result = pd.DataFrame({\n",
    "    'Index': Index,\n",
    "    'class': y_test\n",
    "})\n",
    "result.to_csv(\"submission.csv\", index=False) #(for making submission file)"
   ]
  },
  {
   "cell_type": "code",
   "execution_count": 6,
   "id": "e9e3725e",
   "metadata": {
    "execution": {
     "iopub.execute_input": "2024-06-18T18:08:38.258818Z",
     "iopub.status.busy": "2024-06-18T18:08:38.258422Z",
     "iopub.status.idle": "2024-06-18T18:08:38.264913Z",
     "shell.execute_reply": "2024-06-18T18:08:38.263370Z"
    },
    "papermill": {
     "duration": 0.016477,
     "end_time": "2024-06-18T18:08:38.267223",
     "exception": false,
     "start_time": "2024-06-18T18:08:38.250746",
     "status": "completed"
    },
    "tags": []
   },
   "outputs": [],
   "source": [
    "# soft_voting_clf = VotingClassifier(estimators=[\n",
    "#     ('nb', nb_clf),\n",
    "#     ('gb', gb_clf),\n",
    "#     ('rf_bagging', rf_clf),\n",
    "#     ('lgb', lgb_clf),\n",
    "#     ('ada', ada_clf)\n",
    "# ], voting='soft')\n",
    "\n",
    "# # Train the Soft Voting Classifier\n",
    "# soft_voting_clf.fit(X_train_scaled, y_train)\n",
    "\n",
    "# # Make predictions with Soft Voting\n",
    "# y_pred_soft = soft_voting_clf.predict(X_val_scaled)\n",
    "\n",
    "# # Evaluate F1 score for Soft Voting\n",
    "# f1_soft = f1_score(y_val, y_pred_soft)\n",
    "# print(f'F1 Score (Soft Voting Classifier): {f1_soft}')\n",
    "# # F1 Score (Soft Voting Classifier): 0.6787951989129615\n"
   ]
  },
  {
   "cell_type": "code",
   "execution_count": 7,
   "id": "23981f28",
   "metadata": {
    "execution": {
     "iopub.execute_input": "2024-06-18T18:08:38.281507Z",
     "iopub.status.busy": "2024-06-18T18:08:38.281092Z",
     "iopub.status.idle": "2024-06-18T18:08:38.286508Z",
     "shell.execute_reply": "2024-06-18T18:08:38.285375Z"
    },
    "papermill": {
     "duration": 0.01534,
     "end_time": "2024-06-18T18:08:38.288969",
     "exception": false,
     "start_time": "2024-06-18T18:08:38.273629",
     "status": "completed"
    },
    "tags": []
   },
   "outputs": [],
   "source": [
    "# nb_clf = GaussianNB()\n",
    "# gb_clf = GradientBoostingClassifier(n_estimators=100, random_state=42)\n",
    "# rf_clf = BaggingClassifier(base_estimator=RandomForestClassifier(n_estimators=100, random_state=42), n_estimators=10, random_state=42)\n",
    "# lgb_clf = lgb.LGBMClassifier(n_estimators=100, random_state=42)\n",
    "# ada_clf = AdaBoostClassifier(base_estimator=DecisionTreeClassifier(max_depth=1), n_estimators=50, random_state=42)\n",
    "\n",
    "# # Hard Voting Classifier\n",
    "# hard_voting_clf = VotingClassifier(estimators=[\n",
    "#     ('nb', nb_clf),\n",
    "#     ('gb', gb_clf),\n",
    "#     ('rf_bagging', rf_clf),\n",
    "#     ('lgb', lgb_clf),\n",
    "#     ('ada', ada_clf)\n",
    "# ], voting='hard')\n",
    "\n",
    "# # Train the Hard Voting Classifier\n",
    "# hard_voting_clf.fit(X_train_scaled, y_train)\n",
    "\n",
    "# # Make predictions with Hard Voting\n",
    "# y_pred_hard = hard_voting_clf.predict(X_val_scaled)\n",
    "\n",
    "# # Evaluate F1 score for Hard Voting\n",
    "# f1_hard = f1_score(y_val, y_pred_hard)\n",
    "# print(f'F1 Score (Hard Voting Classifier): {f1_hard}')\n",
    "# # F1 Score (Hard Voting Classifier): 0.6723934116163608\n"
   ]
  },
  {
   "cell_type": "code",
   "execution_count": 8,
   "id": "31ed9b39",
   "metadata": {
    "execution": {
     "iopub.execute_input": "2024-06-18T18:08:38.304127Z",
     "iopub.status.busy": "2024-06-18T18:08:38.302866Z",
     "iopub.status.idle": "2024-06-18T18:08:38.308427Z",
     "shell.execute_reply": "2024-06-18T18:08:38.307402Z"
    },
    "papermill": {
     "duration": 0.01531,
     "end_time": "2024-06-18T18:08:38.310684",
     "exception": false,
     "start_time": "2024-06-18T18:08:38.295374",
     "status": "completed"
    },
    "tags": []
   },
   "outputs": [],
   "source": [
    "# # Naive Bayes, Gradient Boosting, Random Forest with Bagging, LightGBM, and Decision Tree under AdaBoost. all under stacking\n",
    "\n",
    "# nb_clf = GaussianNB()\n",
    "# gb_clf = GradientBoostingClassifier(n_estimators=100, random_state=42)\n",
    "# rf_clf = BaggingClassifier(base_estimator=RandomForestClassifier(n_estimators=100, random_state=42), n_estimators=10, random_state=42)\n",
    "# lgb_clf = lgb.LGBMClassifier(n_estimators=100, random_state=42)\n",
    "# ada_clf = AdaBoostClassifier(base_estimator=DecisionTreeClassifier(max_depth=1), n_estimators=50, random_state=42)\n",
    "# stacking_clf = StackingClassifier(\n",
    "#     estimators=[\n",
    "#         ('nb', nb_clf),\n",
    "#         ('gb', gb_clf),\n",
    "#         ('rf_bagging', rf_clf),\n",
    "#         ('lgb', lgb_clf),\n",
    "#         ('ada', ada_clf)\n",
    "#     ],\n",
    "#     final_estimator=LogisticRegression()\n",
    "# )\n",
    "# stacking_clf.fit(X_train_scaled, y_train)\n",
    "# y_pred = stacking_clf.predict(X_val_scaled)\n",
    "# f1 = f1_score(y_val, y_pred)\n",
    "# print(f'F1 Score (Stacking Classifier): {f1}')\n",
    "# # F1 Score (Stacking Classifier): 0.6699704260250979\n",
    "# # too long"
   ]
  },
  {
   "cell_type": "code",
   "execution_count": 9,
   "id": "4ced9956",
   "metadata": {
    "execution": {
     "iopub.execute_input": "2024-06-18T18:08:38.332131Z",
     "iopub.status.busy": "2024-06-18T18:08:38.331676Z",
     "iopub.status.idle": "2024-06-18T18:08:38.336983Z",
     "shell.execute_reply": "2024-06-18T18:08:38.335634Z"
    },
    "papermill": {
     "duration": 0.019359,
     "end_time": "2024-06-18T18:08:38.339390",
     "exception": false,
     "start_time": "2024-06-18T18:08:38.320031",
     "status": "completed"
    },
    "tags": []
   },
   "outputs": [],
   "source": [
    "# from sklearn.ensemble import AdaBoostClassifier\n",
    "# from sklearn.tree import DecisionTreeClassifier\n",
    "\n",
    "# # Initialize the Decision Tree base estimator\n",
    "# dt_clf = DecisionTreeClassifier(max_depth=1)\n",
    "\n",
    "# # Initialize the AdaBoost Classifier with the Decision Tree as the base estimator\n",
    "# adaboost_clf = AdaBoostClassifier(base_estimator=dt_clf, n_estimators=50, random_state=42)\n",
    "\n",
    "# # Train the AdaBoost Classifier\n",
    "# adaboost_clf.fit(X_train, y_train)\n",
    "\n",
    "# # Make predictions\n",
    "# y_pred = adaboost_clf.predict(X_val)\n",
    "\n",
    "# # Evaluate F1 score\n",
    "# f1 = f1_score(y_val, y_pred)\n",
    "# print(f'F1 Score (AdaBoost Classifier): {f1}')\n",
    "# # F1 Score (AdaBoost Classifier): 0.6639656816015252\n"
   ]
  },
  {
   "cell_type": "code",
   "execution_count": 10,
   "id": "b2ea2d70",
   "metadata": {
    "execution": {
     "iopub.execute_input": "2024-06-18T18:08:38.361046Z",
     "iopub.status.busy": "2024-06-18T18:08:38.360589Z",
     "iopub.status.idle": "2024-06-18T18:08:47.653724Z",
     "shell.execute_reply": "2024-06-18T18:08:47.652312Z"
    },
    "papermill": {
     "duration": 9.307696,
     "end_time": "2024-06-18T18:08:47.656399",
     "exception": false,
     "start_time": "2024-06-18T18:08:38.348703",
     "status": "completed"
    },
    "tags": []
   },
   "outputs": [
    {
     "name": "stdout",
     "output_type": "stream",
     "text": [
      "F1 Score (Gradient Boosting Classifier): 0.6688878311914962\n"
     ]
    }
   ],
   "source": [
    "from sklearn.ensemble import GradientBoostingClassifier\n",
    "\n",
    "# Initialize the Gradient Boosting Classifier\n",
    "gb_clf = GradientBoostingClassifier(n_estimators=100, random_state=42)\n",
    "\n",
    "# Train the Gradient Boosting Classifier\n",
    "gb_clf.fit(X_train, y_train)\n",
    "\n",
    "# Make predictions\n",
    "y_pred = gb_clf.predict(X_val)\n",
    "\n",
    "# Evaluate F1 score\n",
    "f1 = f1_score(y_val, y_pred)\n",
    "print(f'F1 Score (Gradient Boosting Classifier): {f1}')\n",
    "# F1 Score (Gradient Boosting Classifier): 0.6688878311914962\n"
   ]
  },
  {
   "cell_type": "code",
   "execution_count": 11,
   "id": "7522db58",
   "metadata": {
    "execution": {
     "iopub.execute_input": "2024-06-18T18:08:47.671984Z",
     "iopub.status.busy": "2024-06-18T18:08:47.670987Z",
     "iopub.status.idle": "2024-06-18T18:08:47.676204Z",
     "shell.execute_reply": "2024-06-18T18:08:47.674929Z"
    },
    "papermill": {
     "duration": 0.015579,
     "end_time": "2024-06-18T18:08:47.678712",
     "exception": false,
     "start_time": "2024-06-18T18:08:47.663133",
     "status": "completed"
    },
    "tags": []
   },
   "outputs": [],
   "source": [
    "# import xgboost as xgb\n",
    "# xgb_clf = xgb.XGBClassifier(n_estimators=100, random_state=42)\n",
    "# xgb_clf.fit(X_train, y_train)\n",
    "# y_pred = xgb_clf.predict(X_val)\n",
    "# f1 = f1_score(y_val, y_pred)\n",
    "# print(f'F1 Score (XGBoost Classifier): {f1}')\n",
    "# # F1 Score (XGBoost Classifier): 0.65148322564435"
   ]
  },
  {
   "cell_type": "code",
   "execution_count": 12,
   "id": "b40e479f",
   "metadata": {
    "execution": {
     "iopub.execute_input": "2024-06-18T18:08:47.694345Z",
     "iopub.status.busy": "2024-06-18T18:08:47.693278Z",
     "iopub.status.idle": "2024-06-18T18:08:47.698343Z",
     "shell.execute_reply": "2024-06-18T18:08:47.697255Z"
    },
    "papermill": {
     "duration": 0.0155,
     "end_time": "2024-06-18T18:08:47.700748",
     "exception": false,
     "start_time": "2024-06-18T18:08:47.685248",
     "status": "completed"
    },
    "tags": []
   },
   "outputs": [],
   "source": [
    "# # lightgbm\n",
    "# import lightgbm as lgb\n",
    "# lgb_clf = lgb.LGBMClassifier(n_estimators=100, random_state=42)\n",
    "# lgb_clf.fit(X_train, y_train)\n",
    "# y_pred = lgb_clf.predict(X_val)\n",
    "# f1 = f1_score(y_val, y_pred)\n",
    "# print(f'F1 Score (LightGBM Classifier): {f1}')\n",
    "# # F1 Score (LightGBM Classifier): 0.6671484782783265\n"
   ]
  },
  {
   "cell_type": "code",
   "execution_count": 13,
   "id": "93258df9",
   "metadata": {
    "execution": {
     "iopub.execute_input": "2024-06-18T18:08:47.717113Z",
     "iopub.status.busy": "2024-06-18T18:08:47.716701Z",
     "iopub.status.idle": "2024-06-18T18:08:47.722294Z",
     "shell.execute_reply": "2024-06-18T18:08:47.721101Z"
    },
    "papermill": {
     "duration": 0.016195,
     "end_time": "2024-06-18T18:08:47.724733",
     "exception": false,
     "start_time": "2024-06-18T18:08:47.708538",
     "status": "completed"
    },
    "tags": []
   },
   "outputs": [],
   "source": [
    "# # base models: randomforestclassifier, gradient boost classifier, naive bias,svm under voting\n",
    "# rf_clf = RandomForestClassifier(n_estimators=100, random_state=42)\n",
    "# gb_clf = GradientBoostingClassifier(random_state=42)\n",
    "# nb_clf = GaussianNB()\n",
    "# svm_clf = SVC(probability=True, random_state=42)\n",
    "\n",
    "# # Define the Voting Classifier\n",
    "# voting_clf = VotingClassifier(estimators=[\n",
    "#     ('rf', rf_clf),\n",
    "#     ('gb', gb_clf),\n",
    "#     ('nb', nb_clf),\n",
    "#     ('svm', svm_clf)\n",
    "# ], voting='hard')\n",
    "\n",
    "# # Train the Voting Classifier\n",
    "# voting_clf.fit(X_train_scaled, y_train)\n",
    "\n",
    "# # Make predictions\n",
    "# y_pred = voting_clf.predict(X_val_scaled)\n",
    "\n",
    "# # Evaluate F1 score\n",
    "# f1 = f1_score(y_val, y_pred)\n",
    "# print(f'F1 Score (Voting Classifier): {f1}')\n",
    "# # F1 Score (Voting Classifier): 0.6732417874212882 soft\n",
    "# # F1 Score (Voting Classifier): 0.6593729588504246 hard\n",
    "\n"
   ]
  },
  {
   "cell_type": "code",
   "execution_count": 14,
   "id": "854d81ef",
   "metadata": {
    "execution": {
     "iopub.execute_input": "2024-06-18T18:08:47.739673Z",
     "iopub.status.busy": "2024-06-18T18:08:47.739292Z",
     "iopub.status.idle": "2024-06-18T18:08:47.744524Z",
     "shell.execute_reply": "2024-06-18T18:08:47.743342Z"
    },
    "papermill": {
     "duration": 0.015304,
     "end_time": "2024-06-18T18:08:47.746739",
     "exception": false,
     "start_time": "2024-06-18T18:08:47.731435",
     "status": "completed"
    },
    "tags": []
   },
   "outputs": [],
   "source": [
    "# # random forest with bagging\n",
    "# random_forest_clf = RandomForestClassifier(n_estimators=75)\n",
    "# bagging_clf = BaggingClassifier(base_estimator=random_forest_clf, n_estimators=60, random_state=42)\n",
    "# bagging_clf.fit(X_train, y_train)\n",
    "# y_pred = bagging_clf.predict(X_val)\n",
    "# f1 = f1_score(y_val, y_pred)\n",
    "# print(f'F1 Score (Bagging Classifier with Random Forest): {f1}')\n",
    "# # F1 Score (Bagging Classifier with Random Forest): 0.6690140845070424 n=100\n",
    "# # F1 Score (Bagging Classifier with Random Forest): 0.668535725728933 n1=75\n",
    "# # F1 Score (Bagging Classifier with Random Forest): 0.669377990430622 n1=75 n2=60\n",
    "\n"
   ]
  },
  {
   "cell_type": "code",
   "execution_count": 15,
   "id": "a1112630",
   "metadata": {
    "execution": {
     "iopub.execute_input": "2024-06-18T18:08:47.761890Z",
     "iopub.status.busy": "2024-06-18T18:08:47.761505Z",
     "iopub.status.idle": "2024-06-18T18:08:47.766567Z",
     "shell.execute_reply": "2024-06-18T18:08:47.765441Z"
    },
    "papermill": {
     "duration": 0.015432,
     "end_time": "2024-06-18T18:08:47.768945",
     "exception": false,
     "start_time": "2024-06-18T18:08:47.753513",
     "status": "completed"
    },
    "tags": []
   },
   "outputs": [],
   "source": [
    "# # decision tree\n",
    "# decision_tree_clf = DecisionTreeClassifier()\n",
    "\n",
    "# # Train the classifier\n",
    "# decision_tree_clf.fit(X_train, y_train)\n",
    "\n",
    "# # Make predictions\n",
    "# y_pred = decision_tree_clf.predict(X_val)\n",
    "\n",
    "# # Evaluate F1 score\n",
    "# f1 = f1_score(y_val, y_pred)\n",
    "\n",
    "# print(f'F1 Score (Decision Tree Classifier): {f1}')\n",
    "# # F1 Score (Decision Tree Classifier): 0.5657377049180328\n"
   ]
  },
  {
   "cell_type": "code",
   "execution_count": 16,
   "id": "19f217ca",
   "metadata": {
    "execution": {
     "iopub.execute_input": "2024-06-18T18:08:47.785088Z",
     "iopub.status.busy": "2024-06-18T18:08:47.783990Z",
     "iopub.status.idle": "2024-06-18T18:08:47.789069Z",
     "shell.execute_reply": "2024-06-18T18:08:47.788127Z"
    },
    "papermill": {
     "duration": 0.015689,
     "end_time": "2024-06-18T18:08:47.791421",
     "exception": false,
     "start_time": "2024-06-18T18:08:47.775732",
     "status": "completed"
    },
    "tags": []
   },
   "outputs": [],
   "source": [
    "# # decision tree with bagging classifier\n",
    "# base_estimator = DecisionTreeClassifier()\n",
    "# bagging_clf = BaggingClassifier(base_estimator=base_estimator, n_estimators=60, random_state=42)\n",
    "# bagging_clf.fit(X_train, y_train)\n",
    "# y_pred = bagging_clf.predict(X_val)\n",
    "# f1 = f1_score(y_val, y_pred)\n",
    "\n",
    "# print(f'F1 Score (Bagging Classifier): {f1}')\n",
    "# # F1 Score (Bagging Classifier): 0.6433750823994726 n=50\n",
    "# # F1 Score (Bagging Classifier): 0.6531735751295338 n=75\n",
    "# # F1 Score (Bagging Classifier): 0.6518470088264139 n=100\n",
    "# # F1 Score (Bagging Classifier): 0.6485955286217346 n=80\n",
    "# # F1 Score (Bagging Classifier): 0.647986852917009 n=60"
   ]
  },
  {
   "cell_type": "code",
   "execution_count": 17,
   "id": "13efa25b",
   "metadata": {
    "execution": {
     "iopub.execute_input": "2024-06-18T18:08:47.806823Z",
     "iopub.status.busy": "2024-06-18T18:08:47.806445Z",
     "iopub.status.idle": "2024-06-18T18:08:47.811538Z",
     "shell.execute_reply": "2024-06-18T18:08:47.810365Z"
    },
    "papermill": {
     "duration": 0.015437,
     "end_time": "2024-06-18T18:08:47.813820",
     "exception": false,
     "start_time": "2024-06-18T18:08:47.798383",
     "status": "completed"
    },
    "tags": []
   },
   "outputs": [],
   "source": [
    "# # Random Forest Classifier, Gradient Boosting Classifier,\n",
    "# # and Naive Bayes as base models in Voting Classifier\n",
    "# rf_classifier = RandomForestClassifier(n_estimators=100)\n",
    "# gb_classifier = GradientBoostingClassifier()\n",
    "# nb_classifier = GaussianNB()\n",
    "# voting_clf = VotingClassifier(estimators=[('rf', rf_classifier), ('gb', gb_classifier), ('nb', nb_classifier)], voting='soft')\n",
    "# voting_clf.fit(X_train, y_train)\n",
    "# y_pred = voting_clf.predict(X_val)\n",
    "# f1 = f1_score(y_val, y_pred)\n",
    "# print(f'F1 Score (Voting Classifier): {f1}')\n",
    "# # F1 Score (Voting Classifier): 0.6774616392937004 hard\n",
    "# # F1 Score (Voting Classifier): 0.6812571756601608 soft\n",
    "\n"
   ]
  },
  {
   "cell_type": "code",
   "execution_count": 18,
   "id": "101aaee6",
   "metadata": {
    "execution": {
     "iopub.execute_input": "2024-06-18T18:08:47.829319Z",
     "iopub.status.busy": "2024-06-18T18:08:47.828897Z",
     "iopub.status.idle": "2024-06-18T18:08:47.834015Z",
     "shell.execute_reply": "2024-06-18T18:08:47.833023Z"
    },
    "papermill": {
     "duration": 0.015428,
     "end_time": "2024-06-18T18:08:47.836191",
     "exception": false,
     "start_time": "2024-06-18T18:08:47.820763",
     "status": "completed"
    },
    "tags": []
   },
   "outputs": [],
   "source": [
    "# # svm\n",
    "# from sklearn.svm import SVC\n",
    "# scaler = StandardScaler()\n",
    "# X_train_scaled = scaler.fit_transform(X_train)\n",
    "# X_val_scaled = scaler.transform(X_val)\n",
    "# svm_classifier = SVC(kernel='rbf', C=1.0, gamma='scale')  # You can adjust kernel, C, and gamma parameters\n",
    "# svm_classifier.fit(X_train_scaled, y_train)\n",
    "# y_pred = svm_classifier.predict(X_val_scaled)\n",
    "# f1 = f1_score(y_val, y_pred)\n",
    "# print(f'F1 Score: {f1}')\n",
    "# # F1 Score: 0.6500365645567563\n"
   ]
  },
  {
   "cell_type": "code",
   "execution_count": 19,
   "id": "2a25b37f",
   "metadata": {
    "execution": {
     "iopub.execute_input": "2024-06-18T18:08:47.852231Z",
     "iopub.status.busy": "2024-06-18T18:08:47.851405Z",
     "iopub.status.idle": "2024-06-18T18:08:47.857763Z",
     "shell.execute_reply": "2024-06-18T18:08:47.856660Z"
    },
    "papermill": {
     "duration": 0.017127,
     "end_time": "2024-06-18T18:08:47.860356",
     "exception": false,
     "start_time": "2024-06-18T18:08:47.843229",
     "status": "completed"
    },
    "tags": []
   },
   "outputs": [],
   "source": [
    "# #deep learning \n",
    "# from tensorflow.keras.models import Sequential\n",
    "# from tensorflow.keras.layers import Dense, Dropout\n",
    "# from tensorflow.keras.optimizers import Adam\n",
    "# from sklearn.preprocessing import StandardScaler\n",
    "\n",
    "\n",
    "# scaler = StandardScaler()\n",
    "# X_train_scaled = scaler.fit_transform(X_train)\n",
    "# X_val_scaled = scaler.transform(X_val)\n",
    "# model = Sequential([\n",
    "#     Dense(128, activation='relu', input_shape=(X_train_scaled.shape[1],)),\n",
    "#     Dropout(0.6),\n",
    "#     Dense(64, activation='relu'),\n",
    "#     Dropout(0.6),\n",
    "#     Dense(32, activation='relu'),\n",
    "#     Dropout(0.6),\n",
    "#     Dense(1, activation='sigmoid')\n",
    "# ])\n",
    "# model.compile(optimizer=Adam(learning_rate=0.0001),\n",
    "#               loss='binary_crossentropy',\n",
    "#               metrics=['accuracy'])\n",
    "# history = model.fit(X_train_scaled, y_train, epochs=20, batch_size=32, validation_data=(X_val_scaled, y_val))\n",
    "\n",
    "# y_pred_probs = model.predict(X_val_scaled)\n",
    "# y_pred = (y_pred_probs > 0.5).astype(int)\n",
    "# f1 = f1_score(y_val, y_pred)\n",
    "# print(f'F1 Score: {f1}')\n",
    "# # F1 Score: 0.6467195988299206 for lr=0.001, dense=64\n",
    "# # F1 Score: 0.6459264072780441 for lr=0.0001,dense=128\n",
    "# # F1 Score: 0.6502789682218808 for lr=0.0001, dense=64\n",
    "# # F1 Score: 0.6388101983002833 for lr=0.00001\n",
    "# # F1 Score: 0.6518942101501072 for lr=0.0001 dropout=0.6, dense=64\n",
    "# # F1 Score: 0.6380732431540745 for lr=0.0001 dropout=0.6, dense=128\n"
   ]
  },
  {
   "cell_type": "code",
   "execution_count": 20,
   "id": "bf50935a",
   "metadata": {
    "execution": {
     "iopub.execute_input": "2024-06-18T18:08:47.876504Z",
     "iopub.status.busy": "2024-06-18T18:08:47.875645Z",
     "iopub.status.idle": "2024-06-18T18:08:47.880977Z",
     "shell.execute_reply": "2024-06-18T18:08:47.879547Z"
    },
    "papermill": {
     "duration": 0.015755,
     "end_time": "2024-06-18T18:08:47.883161",
     "exception": false,
     "start_time": "2024-06-18T18:08:47.867406",
     "status": "completed"
    },
    "tags": []
   },
   "outputs": [],
   "source": [
    "# # random forest\n",
    "# from sklearn.ensemble import RandomForestClassifier\n",
    "\n",
    "# rf_classifier = RandomForestClassifier(n_estimators=100, random_state=42)\n",
    "# rf_classifier.fit(X_train, y_train)\n",
    "\n",
    "# # Make predictions on the validation set\n",
    "# y_pred = rf_classifier.predict(X_val)\n",
    "# f1 = f1_score(y_val, y_pred)\n",
    "# print(f'F1 Score: {f1}')\n",
    "# # n=100,random_no=42 ;F1 Score: 0.6640587577838097\n"
   ]
  },
  {
   "cell_type": "code",
   "execution_count": 21,
   "id": "aff97d14",
   "metadata": {
    "execution": {
     "iopub.execute_input": "2024-06-18T18:08:47.899532Z",
     "iopub.status.busy": "2024-06-18T18:08:47.898317Z",
     "iopub.status.idle": "2024-06-18T18:08:55.305228Z",
     "shell.execute_reply": "2024-06-18T18:08:55.303718Z"
    },
    "papermill": {
     "duration": 7.417808,
     "end_time": "2024-06-18T18:08:55.307993",
     "exception": false,
     "start_time": "2024-06-18T18:08:47.890185",
     "status": "completed"
    },
    "tags": []
   },
   "outputs": [
    {
     "name": "stdout",
     "output_type": "stream",
     "text": [
      "F1 Score: 0.6682013017939356\n"
     ]
    }
   ],
   "source": [
    "# GradientBoostingClassifier\n",
    "from sklearn.ensemble import GradientBoostingClassifier\n",
    "\n",
    "rf_classifier = GradientBoostingClassifier(n_estimators=80, random_state=42)\n",
    "rf_classifier.fit(X_train, y_train)\n",
    "\n",
    "# Make predictions on the validation set\n",
    "y_pred = rf_classifier.predict(X_val)\n",
    "f1 = f1_score(y_val, y_pred)\n",
    "print(f'F1 Score: {f1}')\n",
    "# n=100, random_no=42;F1 Score: 0.6759543486816215\n",
    "# same F1 Score: 0.6682013017939356\n",
    "\n"
   ]
  },
  {
   "cell_type": "code",
   "execution_count": 22,
   "id": "8d3c41b8",
   "metadata": {
    "execution": {
     "iopub.execute_input": "2024-06-18T18:08:55.324719Z",
     "iopub.status.busy": "2024-06-18T18:08:55.323685Z",
     "iopub.status.idle": "2024-06-18T18:08:55.329526Z",
     "shell.execute_reply": "2024-06-18T18:08:55.328315Z"
    },
    "papermill": {
     "duration": 0.017506,
     "end_time": "2024-06-18T18:08:55.332786",
     "exception": false,
     "start_time": "2024-06-18T18:08:55.315280",
     "status": "completed"
    },
    "tags": []
   },
   "outputs": [],
   "source": [
    "# # naive bayes\n",
    "# from sklearn.naive_bayes import GaussianNB\n",
    "# smote = SMOTE(random_state=42)\n",
    "# X_train_balanced, y_train_balanced = smote.fit_resample(X_train, y_train)\n",
    "# nb_classifier = GaussianNB()\n",
    "# param_grid = {# You can define hyperparameters here if applicable for your implementation}\n",
    "# grid_search = GridSearchCV(nb_classifier, param_grid, cv=5, scoring='f1_weighted')\n",
    "# grid_search.fit(X_train_balanced, y_train_balanced)\n",
    "# best_nb_classifier = grid_search.best_estimator_\n",
    "# y_pred = best_nb_classifier.predict(X_val)\n",
    "# # nb_classifier.fit(X_train, y_train)\n",
    "# # y_pred = nb_classifier.predict(X_val)\n",
    "# f1 = f1_score(y_val, y_pred)\n",
    "# print(f'F1 Score: {f1}')\n",
    "# # F1 Score: 0.6700520343552129 without optimisation of grid search\n",
    "# # F1 Score: 0.6635874723188865 with optimisation\n",
    "\n"
   ]
  },
  {
   "cell_type": "code",
   "execution_count": 23,
   "id": "c1098ab2",
   "metadata": {
    "execution": {
     "iopub.execute_input": "2024-06-18T18:08:55.349800Z",
     "iopub.status.busy": "2024-06-18T18:08:55.349010Z",
     "iopub.status.idle": "2024-06-18T18:08:55.354479Z",
     "shell.execute_reply": "2024-06-18T18:08:55.353239Z"
    },
    "papermill": {
     "duration": 0.016337,
     "end_time": "2024-06-18T18:08:55.356939",
     "exception": false,
     "start_time": "2024-06-18T18:08:55.340602",
     "status": "completed"
    },
    "tags": []
   },
   "outputs": [],
   "source": [
    "# # logistic regression\n",
    "# log_reg = LogisticRegression(max_iter=5000)\n",
    "# log_reg.fit(X_train, y_train)\n",
    "# y_pred = log_reg.predict(X_val)\n",
    "# print(f'F1 Score: {f1}')\n",
    "# # iter = 50000 F1 Score: 0.6359347844078458\n",
    "# # iter = 5000 F1 Score: 0.6419163648337175\n",
    "# # iter 10000 F1 Score: 0.633571309978416"
   ]
  },
  {
   "cell_type": "code",
   "execution_count": 24,
   "id": "293ad212",
   "metadata": {
    "execution": {
     "iopub.execute_input": "2024-06-18T18:08:55.373231Z",
     "iopub.status.busy": "2024-06-18T18:08:55.372781Z",
     "iopub.status.idle": "2024-06-18T18:08:55.377755Z",
     "shell.execute_reply": "2024-06-18T18:08:55.376664Z"
    },
    "papermill": {
     "duration": 0.015671,
     "end_time": "2024-06-18T18:08:55.379920",
     "exception": false,
     "start_time": "2024-06-18T18:08:55.364249",
     "status": "completed"
    },
    "tags": []
   },
   "outputs": [],
   "source": [
    "# # knn\n",
    "# knn = KNeighborsClassifier(n_neighbors=18)\n",
    "# knn.fit(X_train, y_train)\n",
    "# y_pred = knn.predict(X_val)\n",
    "# f1 = f1_score(y_val, y_pred )  # Use 'macro', 'micro', or 'weighted' depending on your use case\n",
    "# print(f\"F1 Score: {f1}\")\n",
    "# # k=6;F1 Score: 0.5156716417910449\n",
    "# # k=3;F1 Score: 0.5660036166365281\n",
    "# # k=9;F1 Score: 0.582340862422998\n",
    "# # k=21;F1 Score: 0.6075180564674982"
   ]
  },
  {
   "cell_type": "code",
   "execution_count": 25,
   "id": "c7955aaa",
   "metadata": {
    "execution": {
     "iopub.execute_input": "2024-06-18T18:08:55.396221Z",
     "iopub.status.busy": "2024-06-18T18:08:55.395794Z",
     "iopub.status.idle": "2024-06-18T18:08:55.400938Z",
     "shell.execute_reply": "2024-06-18T18:08:55.399807Z"
    },
    "papermill": {
     "duration": 0.015979,
     "end_time": "2024-06-18T18:08:55.403211",
     "exception": false,
     "start_time": "2024-06-18T18:08:55.387232",
     "status": "completed"
    },
    "tags": []
   },
   "outputs": [],
   "source": [
    "# from sklearn.model_selection import cross_val_score\n",
    "\n",
    "# k_range = range(1, 31)\n",
    "# k_scores = []\n",
    "\n",
    "# for k in k_range:\n",
    "#     knn = KNeighborsClassifier(n_neighbors=k)\n",
    "#     scores = cross_val_score(knn, X_train, y_train, cv=10, scoring='accuracy')\n",
    "#     k_scores.append(scores.mean())\n",
    "\n",
    "# # Plot the results\n",
    "# import matplotlib.pyplot as plt\n",
    "\n",
    "# plt.plot(k_range, k_scores)\n",
    "# plt.xlabel('Value of k for KNN')\n",
    "# plt.ylabel('Cross-Validated Accuracy')\n",
    "# plt.show()\n"
   ]
  },
  {
   "cell_type": "code",
   "execution_count": 26,
   "id": "1f94ee13",
   "metadata": {
    "execution": {
     "iopub.execute_input": "2024-06-18T18:08:55.419859Z",
     "iopub.status.busy": "2024-06-18T18:08:55.419344Z",
     "iopub.status.idle": "2024-06-18T18:08:55.424686Z",
     "shell.execute_reply": "2024-06-18T18:08:55.423291Z"
    },
    "papermill": {
     "duration": 0.01664,
     "end_time": "2024-06-18T18:08:55.427216",
     "exception": false,
     "start_time": "2024-06-18T18:08:55.410576",
     "status": "completed"
    },
    "tags": []
   },
   "outputs": [],
   "source": [
    "# # test\n",
    "# # y_test = lr.predict(test_data)\n",
    "# y_test = voting_clf.predict(test_d)\n",
    "\n",
    "# Index=test_d['Index']\n",
    "\n",
    "# test_df=test_d.drop(['Index'],axis=1,inplace=True)\n",
    "# result = pd.DataFrame({\n",
    "#     'Index': Index,\n",
    "#     'class': y_test\n",
    "# })\n",
    "# result.to_csv(\"submission.csv\", index=False) #(for making submission file)"
   ]
  },
  {
   "cell_type": "code",
   "execution_count": 27,
   "id": "847e322a",
   "metadata": {
    "execution": {
     "iopub.execute_input": "2024-06-18T18:08:55.444256Z",
     "iopub.status.busy": "2024-06-18T18:08:55.443207Z",
     "iopub.status.idle": "2024-06-18T18:08:55.460534Z",
     "shell.execute_reply": "2024-06-18T18:08:55.459288Z"
    },
    "papermill": {
     "duration": 0.028524,
     "end_time": "2024-06-18T18:08:55.463247",
     "exception": false,
     "start_time": "2024-06-18T18:08:55.434723",
     "status": "completed"
    },
    "tags": []
   },
   "outputs": [],
   "source": [
    "X_train, X_val, y_train, y_val = train_test_split(X, y, test_size = 0.3)"
   ]
  },
  {
   "cell_type": "code",
   "execution_count": 28,
   "id": "076d57ac",
   "metadata": {
    "execution": {
     "iopub.execute_input": "2024-06-18T18:08:55.479650Z",
     "iopub.status.busy": "2024-06-18T18:08:55.479230Z",
     "iopub.status.idle": "2024-06-18T18:08:55.484363Z",
     "shell.execute_reply": "2024-06-18T18:08:55.483154Z"
    },
    "papermill": {
     "duration": 0.01615,
     "end_time": "2024-06-18T18:08:55.486694",
     "exception": false,
     "start_time": "2024-06-18T18:08:55.470544",
     "status": "completed"
    },
    "tags": []
   },
   "outputs": [],
   "source": [
    "# f1 = f1_score(y_val, y_pred)\n",
    "# print(f\"F1 score: {f1}\")\n",
    "# for iter=10000 F1 score: 0.6347811671087533\n",
    "# for iter =5000 F1 score: 0.6328338438612467\n",
    "# for irer =50000 F1 score: 0.6392022233120811\n",
    "# for iter = 5000000 F1 score: 0.6320152532537511\n",
    "# for iter = 5000 F1 score: 0.6345148169668797\n",
    "\n",
    "\n",
    "\n"
   ]
  }
 ],
 "metadata": {
  "kaggle": {
   "accelerator": "none",
   "dataSources": [
    {
     "databundleVersionId": 8809707,
     "sourceId": 81427,
     "sourceType": "competition"
    }
   ],
   "dockerImageVersionId": 30732,
   "isGpuEnabled": false,
   "isInternetEnabled": false,
   "language": "python",
   "sourceType": "notebook"
  },
  "kernelspec": {
   "display_name": "Python 3",
   "language": "python",
   "name": "python3"
  },
  "language_info": {
   "codemirror_mode": {
    "name": "ipython",
    "version": 3
   },
   "file_extension": ".py",
   "mimetype": "text/x-python",
   "name": "python",
   "nbconvert_exporter": "python",
   "pygments_lexer": "ipython3",
   "version": "3.10.13"
  },
  "papermill": {
   "default_parameters": {},
   "duration": 45.118495,
   "end_time": "2024-06-18T18:08:56.216498",
   "environment_variables": {},
   "exception": null,
   "input_path": "__notebook__.ipynb",
   "output_path": "__notebook__.ipynb",
   "parameters": {},
   "start_time": "2024-06-18T18:08:11.098003",
   "version": "2.5.0"
  }
 },
 "nbformat": 4,
 "nbformat_minor": 5
}
